{
 "cells": [
  {
   "cell_type": "code",
   "execution_count": null,
   "metadata": {},
   "outputs": [],
   "source": [
    "#ΑΣΚΗΣΗ 30 ΚΑΙ 31"
   ]
  },
  {
   "cell_type": "code",
   "execution_count": 50,
   "metadata": {},
   "outputs": [],
   "source": [
    "import math\n",
    "\n",
    "#FUNCTIONS\n",
    "def f(x, exp):\n",
    "    return eval(exp)"
   ]
  },
  {
   "cell_type": "code",
   "execution_count": 51,
   "metadata": {},
   "outputs": [
    {
     "name": "stdin",
     "output_type": "stream",
     "text": [
      "Please enter the function using standard python syntax for arithmetic operations:  2 * math.cos(x) - x\n",
      "Enter the range limits (ex: a, b for [a, b] such that f(a)f(b) < 0) 1, 3\n"
     ]
    },
    {
     "name": "stdout",
     "output_type": "stream",
     "text": [
      "1.0 3.0\n"
     ]
    },
    {
     "name": "stdin",
     "output_type": "stream",
     "text": [
      "Enter maximum fault tolerance:  0.0001\n",
      "Enter maximum absolute value:  5\n"
     ]
    }
   ],
   "source": [
    "#INPUTS\n",
    "found = False\n",
    "exp = input(\"Please enter the function using standard python syntax for arithmetic operations: \")\n",
    "while True:\n",
    "    a, b = tuple(map(float, input(\"Enter the range limits (ex: a, b for [a, b] such that f(a)f(b) < 0)\").split(',')))\n",
    "    if f(a, exp) == 0:\n",
    "        print(\"Found root: \", a)\n",
    "        found = True\n",
    "        break\n",
    "    elif f(b, exp) == 0:\n",
    "        print(\"Found root: \", b)\n",
    "        found = True\n",
    "        break\n",
    "    print(a, b)\n",
    "    if (f(a, exp) * f(b, exp)) < 0: break\n",
    "if not found:\n",
    "    maxFT = float(input(\"Enter maximum fault tolerance: \"))\n",
    "    maxVT = float(input(\"Enter maximum absolute value: \"))"
   ]
  },
  {
   "cell_type": "code",
   "execution_count": 53,
   "metadata": {},
   "outputs": [
    {
     "name": "stdout",
     "output_type": "stream",
     "text": [
      "Estimate of root x: 2.0\n"
     ]
    }
   ],
   "source": [
    "#INITIALIZATION\n",
    "m = (a + b) / 2\n",
    "n = 0\n",
    "\n",
    "#MAIN LOOP\n",
    "while ((b - a) / 2) > maxFT and abs(f(m, exp)) > maxVT:\n",
    "    if (f(m, exp) * f(a, exp)) < 0: b = m\n",
    "    elif (f(m, exp) * f(b, exp)): a = m\n",
    "    m = (a + b) / 2\n",
    "    print(f'|{n}|{a}|{b}|{m}|{f(a, exp)}|{f(b, exp)}|{f(m, exp)}|')\n",
    "    n += 1\n",
    "    \n",
    "print(\"Estimate of root x:\", m)"
   ]
  }
 ],
 "metadata": {
  "kernelspec": {
   "display_name": "Python 3",
   "language": "python",
   "name": "python3"
  },
  "language_info": {
   "codemirror_mode": {
    "name": "ipython",
    "version": 3
   },
   "file_extension": ".py",
   "mimetype": "text/x-python",
   "name": "python",
   "nbconvert_exporter": "python",
   "pygments_lexer": "ipython3",
   "version": "3.8.5"
  }
 },
 "nbformat": 4,
 "nbformat_minor": 4
}
