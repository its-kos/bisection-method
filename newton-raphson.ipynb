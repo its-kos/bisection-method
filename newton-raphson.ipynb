{
 "cells": [
  {
   "cell_type": "code",
   "execution_count": 11,
   "metadata": {},
   "outputs": [],
   "source": [
    "import math"
   ]
  },
  {
   "cell_type": "code",
   "execution_count": 14,
   "metadata": {},
   "outputs": [],
   "source": [
    "# Function\n",
    "def f(x):\n",
    "    return 2 - math.cos(x) + x**3\n",
    "\n",
    "# Derivative of function\n",
    "def g(x):\n",
    "    return math.sin(x) + 3*x**2\n",
    "\n",
    "# Newton-Raphson\n",
    "def newtonRaphson(x0, e, N):\n",
    "    print('\\n\\n*** Newton-Raphson ***')\n",
    "    print('n | Xn | f(Xn) | f`(Xn)')\n",
    "    print('-----------------------')\n",
    "    step = 0\n",
    "    flag = 1\n",
    "    condition = True\n",
    "    while step < N and abs(f(x0)) > e and abs(g(x0)) > 0:\n",
    "        \n",
    "        x1 = x0 - f(x0) / g(x0)\n",
    "        print('%d | %0.8f | %0.8f | %0.8f' % (step, x1, f(x1), g(x1)))\n",
    "        x0 = x1\n",
    "        step = step + 1\n",
    "    \n",
    "    print('\\nRoot is: %0.8f' % x1)"
   ]
  },
  {
   "cell_type": "code",
   "execution_count": 13,
   "metadata": {},
   "outputs": [
    {
     "name": "stdin",
     "output_type": "stream",
     "text": [
      "Starting location:  4\n",
      "Maximum tolerable Error:  1\n",
      "Maximum number of iterations:  10\n"
     ]
    },
    {
     "name": "stdout",
     "output_type": "stream",
     "text": [
      "\n",
      "\n",
      "*** Newton-Raphson ***\n",
      "n | Xn | f(Xn) | f`(Xn)\n",
      "-----------------------\n",
      "0 | 2.58913776 | 20.20787154 | 20.63568148\n",
      "1 | 1.60986932 | 6.21132793 | 8.77427443\n",
      "2 | 0.90196715 | 2.11372278 | 3.22518240\n",
      "3 | 0.24658630 | 1.04524229 | 0.42650936\n",
      "4 | -2.20410389 | -8.11588559 | 13.76814743\n",
      "5 | -1.61463565 | -2.16560784 | 6.82210568\n",
      "6 | -1.29719586 | -0.45301337 | 4.08534698\n",
      "\n",
      "Required root is: -1.29719586\n"
     ]
    }
   ],
   "source": [
    "x0 = float(input('Starting location: '))\n",
    "e = float(input('Maximum tolerable Error: '))\n",
    "N = int(input('Maximum number of iterations: '))\n",
    "\n",
    "newtonRaphson(x0, e, N)"
   ]
  }
 ],
 "metadata": {
  "kernelspec": {
   "display_name": "Python 3",
   "language": "python",
   "name": "python3"
  },
  "language_info": {
   "codemirror_mode": {
    "name": "ipython",
    "version": 3
   },
   "file_extension": ".py",
   "mimetype": "text/x-python",
   "name": "python",
   "nbconvert_exporter": "python",
   "pygments_lexer": "ipython3",
   "version": "3.8.5"
  }
 },
 "nbformat": 4,
 "nbformat_minor": 4
}
